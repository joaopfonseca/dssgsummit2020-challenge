{
 "cells": [
  {
   "cell_type": "code",
   "execution_count": 1,
   "metadata": {},
   "outputs": [],
   "source": [
    "import os\n",
    "from os.path import join, pardir\n",
    "from collections import Counter\n",
    "from dssg_challenge import compute_cost, check_keyboard"
   ]
  },
  {
   "cell_type": "code",
   "execution_count": 2,
   "metadata": {},
   "outputs": [],
   "source": [
    "RNG_SEED = 0\n",
    "DATA_DSSG = join(pardir, 'data', 'processed')\n",
    "\n",
    "#rng = np.random.RandomState(RNG_SEED)"
   ]
  },
  {
   "cell_type": "code",
   "execution_count": 3,
   "metadata": {},
   "outputs": [],
   "source": [
    "# get keys\n",
    "with open(join(DATA_DSSG, 'en-keys.txt'), 'r') as file:\n",
    "    keys = file.read()\n",
    "\n",
    "# get corpus example\n",
    "with open(join(DATA_DSSG, 'en-corpus.txt'), 'r') as file:\n",
    "    corpus = file.read()\n",
    "\n",
    "keys = ''.join(keys.split('\\n'))\n",
    "corpus = ''.join(corpus.split(keys)).split('\\n')[0]"
   ]
  },
  {
   "cell_type": "code",
   "execution_count": 4,
   "metadata": {},
   "outputs": [],
   "source": [
    "bigrams = [b for b in zip(list(corpus)[:-1], list(corpus)[1:])]\n",
    "bigrams_ordered = list(dict(Counter(bigrams).most_common()).keys())\n",
    "chars_ordered = [char for big in bigrams_ordered for char in big]"
   ]
  },
  {
   "cell_type": "code",
   "execution_count": 5,
   "metadata": {},
   "outputs": [
    {
     "data": {
      "text/plain": [
       "'E ^STINHADR#OCBW,PFGYL.VUM0KXJQZ<?E T'"
      ]
     },
     "execution_count": 5,
     "metadata": {},
     "output_type": "execute_result"
    }
   ],
   "source": [
    "layout_list = []\n",
    "for char in chars_ordered: \n",
    "    if char not in layout_list:\n",
    "        layout_list.append(char)\n",
    "\n",
    "layout_list += ['<', '?', 'E', ' ', 'T']\n",
    "\n",
    "''.join(layout_list)"
   ]
  },
  {
   "cell_type": "code",
   "execution_count": 6,
   "metadata": {},
   "outputs": [
    {
     "data": {
      "text/plain": [
       "172566.67979369202"
      ]
     },
     "execution_count": 6,
     "metadata": {},
     "output_type": "execute_result"
    }
   ],
   "source": [
    "check_keyboard(''.join(layout_list), keys)\n",
    "compute_cost(''.join(layout_list), corpus)"
   ]
  },
  {
   "cell_type": "code",
   "execution_count": 7,
   "metadata": {},
   "outputs": [
    {
     "data": {
      "text/plain": [
       "'ABCDEFGHIJKLMNOPQ RSTUVWXYZ0.#,^?<'"
      ]
     },
     "execution_count": 7,
     "metadata": {},
     "output_type": "execute_result"
    }
   ],
   "source": [
    "keys"
   ]
  },
  {
   "cell_type": "code",
   "execution_count": 8,
   "metadata": {},
   "outputs": [
    {
     "data": {
      "text/plain": [
       "[('E', ' '), (' ', '^'), ('S', ' '), (' ', 'T'), ('I', 'N')]"
      ]
     },
     "execution_count": 8,
     "metadata": {},
     "output_type": "execute_result"
    }
   ],
   "source": [
    "bigrams_ordered[:5]"
   ]
  },
  {
   "cell_type": "markdown",
   "metadata": {},
   "source": [
    "## Manual tries"
   ]
  },
  {
   "cell_type": "code",
   "execution_count": 9,
   "metadata": {},
   "outputs": [
    {
     "data": {
      "text/plain": [
       "170791.82881718723"
      ]
     },
     "execution_count": 9,
     "metadata": {},
     "output_type": "execute_result"
    }
   ],
   "source": [
    "webinar = ' EAIOTRNDMCYUSLGFWH_BQ#^<0ZV.KX_,?_JP'\n",
    "check_keyboard(webinar, keys)\n",
    "compute_cost(webinar, corpus)"
   ]
  },
  {
   "cell_type": "code",
   "execution_count": 10,
   "metadata": {},
   "outputs": [
    {
     "data": {
      "text/plain": [
       "154286.7518611742"
      ]
     },
     "execution_count": 10,
     "metadata": {},
     "output_type": "execute_result"
    }
   ],
   "source": [
    "yt_vid = 'EINOA TCGVDURL<^SWH_Z__XJQFPBMY,#.0K?'\n",
    "check_keyboard(yt_vid, keys)\n",
    "compute_cost(yt_vid, corpus)"
   ]
  },
  {
   "cell_type": "code",
   "execution_count": 11,
   "metadata": {},
   "outputs": [
    {
     "data": {
      "text/plain": [
       "1734.272273848962"
      ]
     },
     "execution_count": 11,
     "metadata": {},
     "output_type": "execute_result"
    }
   ],
   "source": [
    "test = 'EINOA TCGVDURL<^SWH Z  XJQFPBMY,#.0K?'\n",
    "check_keyboard(test, keys)\n",
    "compute_cost(test, corpus)"
   ]
  }
 ],
 "metadata": {
  "kernelspec": {
   "display_name": "Python 3",
   "language": "python",
   "name": "python3"
  },
  "language_info": {
   "codemirror_mode": {
    "name": "ipython",
    "version": 3
   },
   "file_extension": ".py",
   "mimetype": "text/x-python",
   "name": "python",
   "nbconvert_exporter": "python",
   "pygments_lexer": "ipython3",
   "version": "3.8.5"
  }
 },
 "nbformat": 4,
 "nbformat_minor": 4
}
